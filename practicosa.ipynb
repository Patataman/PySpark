{
 "cells": [
  {
   "cell_type": "markdown",
   "metadata": {},
   "source": [
    "# Imports"
   ]
  },
  {
   "cell_type": "code",
   "execution_count": null,
   "metadata": {},
   "outputs": [],
   "source": [
    "import sys, os\n",
    "is_conda = os.path.exists(os.path.join(sys.prefix, 'conda-meta'))\n",
    "\n",
    "if not is_conda:\n",
    "    import findspark \n",
    "    findspark.init()\n",
    "\n",
    "from pyspark.sql import SparkSession\n",
    "# import pandas as pd\n",
    "# import numpy as np\n",
    "import matplotlib.pyplot as plt\n",
    "from datetime import datetime\n",
    "from pyspark.sql.functions import col, datediff, unix_timestamp\n",
    "import csv\n",
    "from IPython.core.display import display, HTML\n",
    "from collections import defaultdict\n",
    "\n",
    "# Para una lectura más distendida de la memoria\n",
    "MODO_JAJAS = False"
   ]
  },
  {
   "cell_type": "markdown",
   "metadata": {},
   "source": [
    "# Lectura de datos"
   ]
  },
  {
   "cell_type": "code",
   "execution_count": null,
   "metadata": {},
   "outputs": [],
   "source": [
    "spark = SparkSession.builder.appName(\"taxis\").master(\"local[*]\").getOrCreate()\n",
    "df = spark.read.csv('./tripdata_2017_01.csv', header=True, inferSchema=True)"
   ]
  },
  {
   "cell_type": "code",
   "execution_count": null,
   "metadata": {},
   "outputs": [],
   "source": [
    "df.printSchema()\n",
    "dfP=df.toPandas()"
   ]
  },
  {
   "cell_type": "markdown",
   "metadata": {},
   "source": [
    "# Limpieza de datos"
   ]
  },
  {
   "cell_type": "code",
   "execution_count": null,
   "metadata": {},
   "outputs": [],
   "source": [
    "display(dfP)\n",
    "display(dfP.describe().T)"
   ]
  },
  {
   "cell_type": "markdown",
   "metadata": {},
   "source": [
    "### Elementos extraños en el dataset\n",
    "\n",
    "Lista de comportamientos extraños en los datos, y por tanto, inválidos a la hora de utilizar datos que deberían ser coherentes basándonos en la información de cada campo proporcionada por la [documentación](https://www1.nyc.gov/assets/tlc/downloads/pdf/data_dictionary_trip_records_yellow.pdf)\n",
    "\n",
    "* Existen carreras en las que la distancia es 0\n",
    "* Existen propinas negativas\n",
    "* \"extra\" con valores diferentes a 0 (ya que puede no haber extras), 0.5 y 1\n",
    "* Existen viajes con un precio final negativo\n",
    "* \"MTA_tax\" debe valer siempre 0.50. Valores diferentes son erróneos, y por tanto puede que el resto de la información también\n",
    "    * De forma similar, \"Improvement_surcharge\" no debe valer menos de 0.30\n",
    "* Carreras cuya fecha de fin sea igual o anterior a la fecha de inicio\n",
    "* Existen tarifas con valores negativos. No tiene sentido ya que la tarifa va en función del tiempo y la distancia recorridas\n",
    "* \"Improvement_surcharge\" es un valor en desuso, por lo que debería valer en el menor caso 0, no -0.3\n",
    "\n",
    "### Elementos extraños PERO posibles\n",
    "\n",
    "* Número de pasajeros es 0. Dado que es un valor que introduce el propio conductor, muy probablemente le de bastante igual introducir bien el valor.\n",
    "* Un viaje empieza y acaba en la misma zona.\n",
    "\n"
   ]
  },
  {
   "cell_type": "markdown",
   "metadata": {},
   "source": [
    "### Limpieza realizada\n",
    "\n",
    "A partir de los comportamientos observados se ha procedido a eliminar las carreras que cumplen las siguientes condiciones:\n",
    "\n",
    "- Campo \"tip_amount\" con valores menor a 0\n",
    "- Campo \"total_amount\" con valores menor o igual a 0\n",
    "- Campo \"trip_distance\" con valores menor o igual a 0\n",
    "- Campo \"fare_amount\" con valores menor o igual a 0\n",
    "- Campo \"extra\" con valores diferentes de 0, 0.5 y 1\n",
    "- Campo \"MTA_tax\" con valor distinto de 0.5\n",
    "- Campo \"Improvement_surcharge\" con valor distinto de 0 o 0.3\n",
    "- Campo \"tpep_dropoff_datetime\" es anterior o igual a \"tpep_pickup_datetime\""
   ]
  },
  {
   "cell_type": "code",
   "execution_count": null,
   "metadata": {},
   "outputs": [],
   "source": [
    "# Convertimos las fechas a timestamp, para que dejen de ser strings a secas\n",
    "# y guardamos su diferencia para luego tener más fácil el filtrado y otros cálculos\n",
    "\n",
    "# ----------------------------------------------------------------------------------\n",
    "# ESTO ES ABSURDAMENTE LENTO, TIENE QUE HABER ALGUNA FORMA MÁS FÁCIL DE HACER ESTO\n",
    "# ----------------------------------------------------------------------------------\n",
    "df = df.withColumn(\n",
    "    \"tpep_pickup_timestamp\", unix_timestamp(col(\"tpep_pickup_datetime\").cast(\"timestamp\"))\n",
    ").withColumn(\n",
    "    \"tpep_dropoff_timestamp\", unix_timestamp(col(\"tpep_dropoff_datetime\").cast(\"timestamp\"))\n",
    ").withColumn(\n",
    "    \"time_diff\", col(\"tpep_dropoff_timestamp\") - col(\"tpep_pickup_timestamp\")  # Segundos\n",
    ")\n",
    "\n",
    "df.createOrReplaceTempView('datosCarreras')\n",
    "# display(df.toPandas())"
   ]
  },
  {
   "cell_type": "code",
   "execution_count": null,
   "metadata": {},
   "outputs": [],
   "source": [
    "datosLimpios = spark.sql(\"\"\"\n",
    "    SELECT * FROM datosCarreras WHERE\n",
    "        tip_amount >= 0 AND\n",
    "        total_amount > 0 AND\n",
    "        trip_distance > 0 AND\n",
    "        fare_amount > 0 AND\n",
    "        (extra == 0 OR extra == 0.5 OR extra == 1) AND\n",
    "        mta_tax == 0.5 AND\n",
    "        improvement_surcharge >= 0 AND\n",
    "        time_diff > 0\n",
    "\"\"\")\n",
    "print(datosLimpios.count())\n",
    "datosLimpios.createOrReplaceTempView('datosCarrerasLimpios')\n",
    "datosLimpiosP = datosLimpios.toPandas()"
   ]
  },
  {
   "cell_type": "code",
   "execution_count": null,
   "metadata": {
    "scrolled": false
   },
   "outputs": [],
   "source": [
    "display(datosLimpiosP)\n",
    "display(datosLimpiosP.describe().T)"
   ]
  },
  {
   "cell_type": "markdown",
   "metadata": {},
   "source": [
    "## Extracción de información\n",
    "\n",
    "Ahora que ya hemos limpiado los datos y tenemos entradas coherentes, se puede proceder a extraer información de los mismos. \n",
    "\n",
    "La información que se va a extraer es:\n",
    "\n",
    "* Velocidad media de los taxis en función de la hora.\n",
    "* Viajes en taxi más comunes\n",
    "* Registros financieros (propinas, personas, etc.)\n",
    "    * Timos a turistas\n",
    "    * Propinas en función de la hora\n",
    "    * Identificar pasajeros borrachos\n",
    "* Zonas con poca cobertura\n",
    "\n"
   ]
  },
  {
   "cell_type": "code",
   "execution_count": null,
   "metadata": {},
   "outputs": [],
   "source": [
    "if not os.path.exists(\"taxi+_zone_lookup.csv\"):\n",
    "    !wget https://s3.amazonaws.com/nyc-tlc/misc/taxi+_zone_lookup.csv"
   ]
  },
  {
   "cell_type": "code",
   "execution_count": null,
   "metadata": {},
   "outputs": [],
   "source": [
    "# Diccionario para traducir el id de las localizaciones a cosas coherentes\n",
    "# TODO CAMBIAR PARA HACERLO CON SPARK Y UN JOIN\n",
    "zone_lookup_csv = csv.DictReader(open(\"taxi+_zone_lookup.csv\"), delimiter=\",\")\n",
    "zone_lookup = {l['LocationID']: {\"distrito\": l['Borough'], \"zona\": l['Zone'], \"servicio\": l['service_zone']} for l in zone_lookup_csv}"
   ]
  },
  {
   "cell_type": "markdown",
   "metadata": {},
   "source": [
    "### Velocidad media de los taxis"
   ]
  },
  {
   "cell_type": "markdown",
   "metadata": {},
   "source": [
    "En este apartado se realizará un análisis de la velocidad media de los taxis, para ello se realizará una transformación de millas a metros sabiendo que 1 milla = 1609.344 metros luego dividiéndolo entre la diferencia de tiempo calculada previamente."
   ]
  },
  {
   "cell_type": "code",
   "execution_count": null,
   "metadata": {},
   "outputs": [],
   "source": [
    "dfMTS = datosLimpios.withColumn(\n",
    "    \"mean_speed\", col(\"trip_distance\")*1609.344/col(\"time_diff\")\n",
    ")"
   ]
  },
  {
   "cell_type": "code",
   "execution_count": null,
   "metadata": {
    "scrolled": true
   },
   "outputs": [],
   "source": [
    "dfMTSP = dfMTS.toPandas()\n",
    "display(dfMTSP.sort_values(by=[\"mean_speed\"],ascending=False).head(50))\n",
    "display(dfMTSP.describe().T)"
   ]
  },
  {
   "cell_type": "markdown",
   "metadata": {},
   "source": [
    "En vista de que las velocidades medias estaban mal y esto, como se puede ver en la tabla, es debido a que el time_diff es muy bajo, probablemente por un error de los tiempos almacenador por los taxistas, por lo tanto se volverá a realizar una consulta eliminando tiempos menores a 3 minutos y se comprobará las velocidades promedio otra vez.\n"
   ]
  },
  {
   "cell_type": "code",
   "execution_count": null,
   "metadata": {},
   "outputs": [],
   "source": [
    "datosLimpiosSinVelocidades = spark.sql(\"SELECT * FROM datosCarrerasLimpios where time_diff >= 180\")\n",
    "dfMTS = datosLimpiosSinVelocidades.withColumn(\n",
    "    \"mean_speed\", col(\"trip_distance\")*1609.344/col(\"time_diff\")\n",
    ")"
   ]
  },
  {
   "cell_type": "code",
   "execution_count": null,
   "metadata": {
    "scrolled": true
   },
   "outputs": [],
   "source": [
    "resultsTolls = spark.sql(\"SELECT * FROM datosCarrerasLimpios where tolls_amount > 100\").toPandas()\n",
    "display(resultsTolls)\n",
    "display(resultsTolls.describe().T)"
   ]
  },
  {
   "cell_type": "code",
   "execution_count": null,
   "metadata": {},
   "outputs": [],
   "source": [
    "resultsTimos = spark.sql(\"SELECT * FROM datosCarrerasLimpios where PULocationID == DOLocationID\").toPandas()"
   ]
  },
  {
   "cell_type": "code",
   "execution_count": null,
   "metadata": {},
   "outputs": [],
   "source": [
    "dfMTSP = dfMTS.toPandas()\n",
    "display(dfMTSP.sort_values(by=[\"mean_speed\"],ascending=False).head(50))\n",
    "display(dfMTSP.describe().T)"
   ]
  },
  {
   "cell_type": "markdown",
   "metadata": {},
   "source": [
    "\n",
    "### [referenica a velocidades medias]\n",
    "\n",
    "Como se puede observar, la mayoría de velocidades entre las 50 más rápidas superan el límite de velocidad nacional para zonas de carretera (24.72222 m/s) siendo que solo los 5 últimos lo cumplen, o en otras palabras que los 45 primeros infringen la ley.\n",
    "\n",
    "Por otro lado se puede ver que los 8 primeros tienen velocidades mayores a 52 metros por segundo, lo que implica velocidades de 187.2 km/s esto puede ser debido a que haya algún tipo de fallo en el tiempo o que lleve velocidades demasiado altas.\n",
    "\n",
    "Por último mencionar que los 6 primeros tienen velocidades mayores a 65 m/s, cosa que ya debe ser debido a un fallo, accidental o adrede por parte del conductor.\n"
   ]
  },
  {
   "cell_type": "markdown",
   "metadata": {},
   "source": [
    "### Zonas de poca cobertura 100% real link megaupload"
   ]
  },
  {
   "cell_type": "code",
   "execution_count": null,
   "metadata": {},
   "outputs": [],
   "source": [
    "if MODO_JAJAS:\n",
    "    display(HTML('<iframe src=\"https://giphy.com/embed/PmdOx0iRRtqkBFlEgI\" width=\"240\" height=\"240\" frameBorder=\"0\" class=\"giphy-embed\" allowFullScreen></iframe>'))"
   ]
  },
  {
   "cell_type": "code",
   "execution_count": null,
   "metadata": {},
   "outputs": [],
   "source": [
    "sinCobertura = spark.sql(\"\"\"\n",
    "    SELECT DOLocationID as locationID, store_and_fwd_flag\n",
    "      FROM datosCarrerasLimpios\n",
    "      WHERE store_and_fwd_flag == 'Y'\n",
    "\"\"\")\n",
    "\n",
    "sC_rdd = sinCobertura.rdd\n",
    "# sC_rdd.flatMap(lambda x: x['locationID']).map(lambda x: (x,1))\n",
    "zone_tuples = sC_rdd.map(\n",
    "    lambda x: (x['locationID'],1)\n",
    ").reduceByKey(\n",
    "    lambda x,y: x+y\n",
    ").sortBy(\n",
    "    lambda x: x[1], False\n",
    ")"
   ]
  },
  {
   "cell_type": "code",
   "execution_count": null,
   "metadata": {},
   "outputs": [],
   "source": [
    "distritos = defaultdict(int)\n",
    "zonas = defaultdict(int)\n",
    "\n",
    "for i, loc_id in enumerate(zone_tuples.collect()):\n",
    "    num = loc_id[1]\n",
    "    loc_id = str(loc_id[0])\n",
    "    zona = zone_lookup[loc_id]\n",
    "    \n",
    "    distritos[zona['distrito']] += num\n",
    "    zonas[zona['zona']] = num\n",
    "\n",
    "distritos_x = [k for k in distritos.keys()]\n",
    "distritos_y = [v for v in distritos.values()]\n",
    "zonas_x = [k for k in zonas.keys()]\n",
    "zonas_y = [v for v in zonas.values()]\n",
    "\n",
    "\n",
    "fig = plt.figure(figsize=(30, 10))\n",
    "\n",
    "ax = fig.add_subplot(1, 2, 1)\n",
    "ax.bar(distritos_x, distritos_y)\n",
    "ax.set_xlabel(\"Zona\")\n",
    "ax.set_ylabel(\"Registros guardados\")\n",
    "ax.set_title(\"Registros guardados por zona\")\n",
    "plt.xticks(rotation=90)\n",
    "\n",
    "ax = fig.add_subplot(1, 2, 2)\n",
    "ax.bar(zonas_x[:10], zonas_y[:10])\n",
    "ax.set_xlabel(\"Zona\")\n",
    "ax.set_ylabel(\"Registros guardados\")\n",
    "ax.set_title(\"Registros guardados por zona\")\n",
    "\n",
    "plt.xticks(rotation=90)\n",
    "\n",
    "plt.show()\n",
    "\n",
    "# print(f\"TOP {i+1} con {num}\\n    Distrito: {zona['distrito']}\\n    Zona: {zona['zona']}\\n    Servicio: {zona['servicio']}\")"
   ]
  },
  {
   "cell_type": "markdown",
   "metadata": {},
   "source": [
    "### Viajes más comunes"
   ]
  },
  {
   "cell_type": "markdown",
   "metadata": {},
   "source": [
    "# Fin"
   ]
  },
  {
   "cell_type": "code",
   "execution_count": null,
   "metadata": {},
   "outputs": [],
   "source": [
    "#spark.stop()"
   ]
  },
  {
   "cell_type": "markdown",
   "metadata": {},
   "source": [
    "IDEAS\n",
    "\n",
    "propinas / hora\n",
    "\n",
    "Timos\n",
    "\n",
    "- Vueltas de mas en misma zona\n",
    "- Tolls valores raros\n",
    "- Diferencias exageradas de distancias para pares de datos con mismo origen y destino\n",
    "\n",
    "Velocidad media de los taxis en función de la hora.\n",
    "\n",
    "Viajes en taxi más comunes\n",
    "\n",
    "Registros financieros (propinas, personas, etc.)\n",
    "\n",
    "Zonas sin cobertura a partir del parámetro Store_and_fwd_flag\n",
    "\n",
    "Fare_amount frente a time_diff y trip distance, infracciones de ley\n"
   ]
  },
  {
   "cell_type": "code",
   "execution_count": null,
   "metadata": {},
   "outputs": [],
   "source": []
  }
 ],
 "metadata": {
  "kernelspec": {
   "display_name": "Python 3",
   "language": "python",
   "name": "python3"
  },
  "language_info": {
   "codemirror_mode": {
    "name": "ipython",
    "version": 3
   },
   "file_extension": ".py",
   "mimetype": "text/x-python",
   "name": "python",
   "nbconvert_exporter": "python",
   "pygments_lexer": "ipython3",
   "version": "3.7.3"
  }
 },
 "nbformat": 4,
 "nbformat_minor": 4
}

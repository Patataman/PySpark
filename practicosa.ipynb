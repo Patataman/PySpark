{
 "cells": [
  {
   "cell_type": "code",
   "execution_count": 2,
   "metadata": {},
   "outputs": [
    {
     "name": "stdout",
     "output_type": "stream",
     "text": [
      "[('Hola', 1), ('Hola', 1), ('Hola', 1), ('Adios', 1), ('Adios', 1)]\n",
      "ParallelCollectionRDD[0] at readRDDFromFile at PythonRDD.scala:262\n",
      "PythonRDD[5] at RDD at PythonRDD.scala:53\n",
      "[('Adios', 2), ('Hola', 3)]\n"
     ]
    }
   ],
   "source": [
    "import sys, os\n",
    "is_conda = os.path.exists(os.path.join(sys.prefix, 'conda-meta'))\n",
    "\n",
    "if not is_conda:\n",
    "    import findspark \n",
    "    findspark.init()\n",
    "\n",
    "from pyspark.sql import SparkSession"
   ]
  },
  {
   "cell_type": "code",
   "execution_count": null,
   "metadata": {},
   "outputs": [],
   "source": [
    "spark = SparkSession.builder.appName(\"test\").master(\n",
    "        \"local[*]\").getOrCreate()"
   ]
  },
  {
   "cell_type": "code",
   "execution_count": null,
   "metadata": {},
   "outputs": [],
   "source": [
    "data = [('Hola',1),('Hola',1),('Hola',1),('Adios',1), ('Adios',1)]\n",
    "\n",
    "print(data)\n",
    "\n",
    "rdd= spark.sparkContext.parallelize(data)\n",
    "\n",
    "print(rdd)\n",
    "\n",
    "mod_rdd= rdd.reduceByKey(lambda a,b: a+b)\n",
    "\n",
    "print(mod_rdd)\n",
    "\n",
    "result = mod_rdd.collect()\n",
    "\n",
    "print(result)"
   ]
  },
  {
   "cell_type": "code",
   "execution_count": null,
   "metadata": {},
   "outputs": [],
   "source": [
    "spark.stop()"
   ]
  }
 ],
 "metadata": {
  "kernelspec": {
   "display_name": "Python 3",
   "language": "python",
   "name": "python3"
  },
  "language_info": {
   "codemirror_mode": {
    "name": "ipython",
    "version": 3
   },
   "file_extension": ".py",
   "mimetype": "text/x-python",
   "name": "python",
   "nbconvert_exporter": "python",
   "pygments_lexer": "ipython3",
   "version": "3.7.3"
  }
 },
 "nbformat": 4,
 "nbformat_minor": 4
}
